{
 "cells": [
  {
   "cell_type": "markdown",
   "metadata": {},
   "source": [
    "# Understanding Positional Encoding in Transformers\n",
    "\n",
    "Transformers process input sequences in parallel, unlike RNNs or LSTMs, which process one word at a time. This parallelism is key to their efficiency but introduces a problem: without a mechanism to track the order of words, the transformer would lose the sequence information vital for understanding language.\n",
    "\n",
    "Positional encoding solves this by adding information about word positions directly to the input embeddings, allowing the transformer to infer the order and structure of the sequence.\n",
    "\n",
    "## How Positional Encoding Works\n",
    "\n",
    "The key idea is to represent positions as continuous values rather than discrete numbers. Positional encodings are added to the word embeddings before they are fed into the transformer layers. These encodings use trigonometric functions to map positions into a high-dimensional space, enabling smooth generalization and easy differentiation between relative positions.\n",
    "\n",
    "The formula for the positional encoding is:\n",
    "\n",
    "$PE_{(pos,2i)} = sin(\\frac{pos}{10000^{\\frac{2i}{d}}})$\n",
    "\n",
    "$PE_{(pos,2i+1)} = cos(\\frac{pos}{10000^{\\frac{2i}{d}}})$\n",
    "\n",
    "Where:\n",
    "- $pos$ is the position in the sequence\n",
    "- $i$ is the dimension index\n",
    "- $d$ is the embedding dimension"
   ]
  },
  {
   "cell_type": "code",
   "execution_count": 3,
   "metadata": {},
   "outputs": [],
   "source": [
    "import torch\n",
    "import torch.nn as nn\n",
    "import matplotlib.pyplot as plt\n",
    "\n",
    "seq_len = 10\n",
    "d_model = 6"
   ]
  },
  {
   "cell_type": "code",
   "execution_count": 4,
   "metadata": {},
   "outputs": [
    {
     "data": {
      "text/plain": [
       "tensor([[0., 0., 0., 0., 0., 0.],\n",
       "        [0., 0., 0., 0., 0., 0.],\n",
       "        [0., 0., 0., 0., 0., 0.],\n",
       "        [0., 0., 0., 0., 0., 0.],\n",
       "        [0., 0., 0., 0., 0., 0.],\n",
       "        [0., 0., 0., 0., 0., 0.],\n",
       "        [0., 0., 0., 0., 0., 0.],\n",
       "        [0., 0., 0., 0., 0., 0.],\n",
       "        [0., 0., 0., 0., 0., 0.],\n",
       "        [0., 0., 0., 0., 0., 0.]])"
      ]
     },
     "execution_count": 4,
     "metadata": {},
     "output_type": "execute_result"
    }
   ],
   "source": [
    "# Create empty tensor for positional encoding matrix\n",
    "pe = torch.zeros(seq_len, d_model)\n",
    "pe"
   ]
  },
  {
   "cell_type": "code",
   "execution_count": 5,
   "metadata": {},
   "outputs": [
    {
     "data": {
      "text/plain": [
       "tensor([[0.],\n",
       "        [1.],\n",
       "        [2.],\n",
       "        [3.],\n",
       "        [4.],\n",
       "        [5.],\n",
       "        [6.],\n",
       "        [7.],\n",
       "        [8.],\n",
       "        [9.]])"
      ]
     },
     "execution_count": 5,
     "metadata": {},
     "output_type": "execute_result"
    }
   ],
   "source": [
    "# Create position tensor: shape (seq_len, 1)\n",
    "# [[0], [1], [2], ..., [seq_len-1]]\n",
    "position  = torch.arange(0, seq_len, dtype=torch.float).unsqueeze(1)\n",
    "# or pe = torch.arange(max_sequence_length, dtype=torch.float).reshape(max_sequence_length, 1)\n",
    "position"
   ]
  },
  {
   "cell_type": "code",
   "execution_count": 6,
   "metadata": {},
   "outputs": [
    {
     "data": {
      "text/plain": [
       "tensor([0., 2., 4.])"
      ]
     },
     "execution_count": 6,
     "metadata": {},
     "output_type": "execute_result"
    }
   ],
   "source": [
    "num_i = torch.arange(0, d_model, 2).float()\n",
    "num_i"
   ]
  },
  {
   "cell_type": "code",
   "execution_count": 7,
   "metadata": {},
   "outputs": [
    {
     "data": {
      "text/plain": [
       "tensor([  1.0000,  21.5443, 464.1590])"
      ]
     },
     "execution_count": 7,
     "metadata": {},
     "output_type": "execute_result"
    }
   ],
   "source": [
    "denominator = torch.pow(10000, num_i/d_model)\n",
    "denominator"
   ]
  },
  {
   "cell_type": "code",
   "execution_count": 8,
   "metadata": {},
   "outputs": [
    {
     "data": {
      "text/plain": [
       "tensor([[ 0.0000,  1.0000,  0.0000,  1.0000,  0.0000,  1.0000],\n",
       "        [ 0.8415,  0.5403,  0.0464,  0.9989,  0.0022,  1.0000],\n",
       "        [ 0.9093, -0.4161,  0.0927,  0.9957,  0.0043,  1.0000],\n",
       "        [ 0.1411, -0.9900,  0.1388,  0.9903,  0.0065,  1.0000],\n",
       "        [-0.7568, -0.6536,  0.1846,  0.9828,  0.0086,  1.0000],\n",
       "        [-0.9589,  0.2837,  0.2300,  0.9732,  0.0108,  0.9999],\n",
       "        [-0.2794,  0.9602,  0.2749,  0.9615,  0.0129,  0.9999],\n",
       "        [ 0.6570,  0.7539,  0.3192,  0.9477,  0.0151,  0.9999],\n",
       "        [ 0.9894, -0.1455,  0.3629,  0.9318,  0.0172,  0.9999],\n",
       "        [ 0.4121, -0.9111,  0.4057,  0.9140,  0.0194,  0.9998]])"
      ]
     },
     "execution_count": 8,
     "metadata": {},
     "output_type": "execute_result"
    }
   ],
   "source": [
    "# Apply sine to even indices\n",
    "pe[:, 0::2] = torch.sin(position / denominator)\n",
    "# Apply cosine to odd indices\n",
    "pe[:, 1::2] = torch.cos(position / denominator)\n",
    "\n",
    "# Add batch dimension: (1, seq_len, d_model)\n",
    "# pe = pe.unsqueeze(0)\n",
    "pe"
   ]
  },
  {
   "cell_type": "code",
   "execution_count": 9,
   "metadata": {},
   "outputs": [],
   "source": [
    "class PositionalEncoding(nn.Module):\n",
    "\n",
    "    def __init__(self, d_model:int, seq_len: int) -> None:\n",
    "        super().__init__()\n",
    "        self.d_model = d_model\n",
    "        self.seq_len = seq_len\n",
    "\n",
    "    def forward(self):\n",
    "        pe = torch.zeros(seq_len, d_model)\n",
    "        position = torch.arange(self.seq_len).reshape(self.seq_len, 1)\n",
    "\n",
    "        num_i = torch.arange(0, self.d_model, 2).float()\n",
    "        denominator = torch.pow(10000, num_i/self.d_model)\n",
    "        \n",
    "        # Apply sine to even indices\n",
    "        pe[:, 0::2] = torch.sin(position / denominator)\n",
    "        # Apply cosine to odd indices\n",
    "        pe[:, 1::2] = torch.cos(position / denominator)\n",
    "        return pe\n"
   ]
  },
  {
   "cell_type": "code",
   "execution_count": 16,
   "metadata": {},
   "outputs": [
    {
     "data": {
      "image/png": "[encoded data removed]",
      "text/plain": [
       "<Figure size 800x400 with 1 Axes>"
      ]
     },
     "metadata": {},
     "output_type": "display_data"
    }
   ],
   "source": [
    "seq_len = 50  # sequence length\n",
    "d_model = 32   # embedding dimension\n",
    "pos_encoder = PositionalEncoding(d_model, seq_len)\n",
    "y = pos_encoder.forward()\n",
    "\n",
    "# Create the plot \n",
    "plt.figure(figsize=(8, 4))\n",
    "cax = plt.matshow(y.numpy().transpose(), cmap='RdBu_r', fignum=1)  \n",
    "# cax = plt.matshow(y.numpy(), cmap='RdBu_r', fignum=1)  \n",
    "plt.xlabel('Token Position')\n",
    "plt.ylabel('Encoding Dimension')\n",
    "plt.title('Positional Encoding Matrix')\n",
    "plt.show()\n",
    "\n"
   ]
  }
 ],
 "metadata": {
  "kernelspec": {
   "display_name": "base",
   "language": "python",
   "name": "python3"
  },
  "language_info": {
   "codemirror_mode": {
    "name": "ipython",
    "version": 3
   },
   "file_extension": ".py",
   "mimetype": "text/x-python",
   "name": "python",
   "nbconvert_exporter": "python",
   "pygments_lexer": "ipython3",
   "version": "3.11.5"
  }
 },
 "nbformat": 4,
 "nbformat_minor": 2
}
