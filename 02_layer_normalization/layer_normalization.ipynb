{
 "cells": [
  {
   "cell_type": "code",
   "execution_count": 2,
   "metadata": {},
   "outputs": [],
   "source": [
    "import torch\n",
    "import torch.nn as nn\n",
    "import math"
   ]
  },
  {
   "cell_type": "code",
   "execution_count": 13,
   "metadata": {},
   "outputs": [],
   "source": [
    "class LayerNormalization(nn.Module):\n",
    "    def __init__(self, features: int, eps: float = 1e-6) -> None:\n",
    "        super().__init__()\n",
    "        self.eps = eps\n",
    "        self.gamma  = nn.Parameter(torch.ones(features))  # Learnable scaling factor\n",
    "        self.beta  = nn.Parameter(torch.zeros(features))  # Learnable shift factor\n",
    "\n",
    "    def forward(self, x):\n",
    "        # Compute mean and std along the last dimension (hidden_size)\n",
    "        mean = x.mean(dim=-1, keepdim=True)\n",
    "        print(\"mean Tensor:\\n\", mean)\n",
    "        std = x.std(dim=-1, keepdim=True)\n",
    "        print(\"std Tensor:\\n\", std)\n",
    "        # Normalize and apply learnable parameters\n",
    "        return self.gamma * (x - mean) / (std + self.eps) + self.beta \n",
    "\n"
   ]
  },
  {
   "cell_type": "code",
   "execution_count": 15,
   "metadata": {},
   "outputs": [
    {
     "name": "stdout",
     "output_type": "stream",
     "text": [
      "Input Tensor:\n",
      " tensor([[[ 1.,  2.,  3.],\n",
      "         [ 4.,  5.,  6.],\n",
      "         [ 7.,  8.,  9.],\n",
      "         [10., 11., 12.]],\n",
      "\n",
      "        [[ 1.,  3.,  5.],\n",
      "         [ 2.,  4.,  6.],\n",
      "         [ 3.,  5.,  7.],\n",
      "         [ 4.,  6.,  8.]]])\n",
      "mean Tensor:\n",
      " tensor([[[ 2.],\n",
      "         [ 5.],\n",
      "         [ 8.],\n",
      "         [11.]],\n",
      "\n",
      "        [[ 3.],\n",
      "         [ 4.],\n",
      "         [ 5.],\n",
      "         [ 6.]]])\n",
      "std Tensor:\n",
      " tensor([[[1.],\n",
      "         [1.],\n",
      "         [1.],\n",
      "         [1.]],\n",
      "\n",
      "        [[2.],\n",
      "         [2.],\n",
      "         [2.],\n",
      "         [2.]]])\n",
      "\n",
      "Normalized Output:\n",
      " tensor([[[-1.0000,  0.0000,  1.0000],\n",
      "         [-1.0000,  0.0000,  1.0000],\n",
      "         [-1.0000,  0.0000,  1.0000],\n",
      "         [-1.0000,  0.0000,  1.0000]],\n",
      "\n",
      "        [[-1.0000,  0.0000,  1.0000],\n",
      "         [-1.0000,  0.0000,  1.0000],\n",
      "         [-1.0000,  0.0000,  1.0000],\n",
      "         [-1.0000,  0.0000,  1.0000]]], grad_fn=<AddBackward0>)\n",
      "\n",
      "Learnable Alpha (Scaling):\n",
      " Parameter containing:\n",
      "tensor([1., 1., 1.], requires_grad=True)\n",
      "\n",
      "Learnable Bias (Shift):\n",
      " Parameter containing:\n",
      "tensor([0., 0., 0.], requires_grad=True)\n"
     ]
    }
   ],
   "source": [
    "# Simulate a batch of sequence embeddings (e.g., from a Transformer)\n",
    "batch_size = 2\n",
    "seq_len = 4\n",
    "d_model = 3\n",
    "input_tensor = torch.tensor([\n",
    "    [[1.0, 2.0, 3.0], [4.0, 5.0, 6.0], [7.0, 8.0, 9.0], [10.0, 11.0, 12.0]],\n",
    "    [[1.0, 3.0, 5.0], [2.0, 4.0, 6.0], [3.0, 5.0, 7.0], [4.0, 6.0, 8.0]],\n",
    "], dtype=torch.float32)  # Shape: (batch_size, seq_len, hidden_size)\n",
    "\n",
    "print(\"Input Tensor:\\n\", input_tensor)\n",
    "\n",
    "# Initialize Layer Normalization with the hidden size\n",
    "layer_norm = LayerNormalization(features=d_model)\n",
    "\n",
    "# Apply layer normalization\n",
    "normalized_output = layer_norm(input_tensor)\n",
    "\n",
    "print(\"\\nNormalized Output:\\n\", normalized_output)\n",
    "print(\"\\nLearnable Alpha (Scaling):\\n\", layer_norm.gamma)\n",
    "print(\"\\nLearnable Bias (Shift):\\n\", layer_norm.beta)\n",
    "     \n"
   ]
  }
 ],
 "metadata": {
  "kernelspec": {
   "display_name": "base",
   "language": "python",
   "name": "python3"
  },
  "language_info": {
   "codemirror_mode": {
    "name": "ipython",
    "version": 3
   },
   "file_extension": ".py",
   "mimetype": "text/x-python",
   "name": "python",
   "nbconvert_exporter": "python",
   "pygments_lexer": "ipython3",
   "version": "3.11.5"
  }
 },
 "nbformat": 4,
 "nbformat_minor": 2
}
